{
  "nbformat": 4,
  "nbformat_minor": 0,
  "metadata": {
    "colab": {
      "name": "Copy of Numpy Bakery Starter Notebook.ipynb",
      "provenance": [],
      "collapsed_sections": [
        "uIUAfF9c2jJ1"
      ]
    },
    "kernelspec": {
      "name": "python3",
      "display_name": "Python 3"
    },
    "language_info": {
      "name": "python"
    }
  },
  "cells": [
    {
      "cell_type": "markdown",
      "source": [
        "# Bakery Numpy Exercise (Core) \n",
        "\n",
        "Note: One challenge of this exercise is staying organized, so we recommend you keep track of what is going on with paper and pencil as you work through the exercise."
      ],
      "metadata": {
        "id": "c-7UVcOE2FTD"
      }
    },
    {
      "cell_type": "markdown",
      "source": [
        "The selling price of 3 items at the bake sale are: \\$2 for a brownie, \\$1 for a cookie, \\$10 for a cake.\n",
        "- Assign these values to a list named price."
      ],
      "metadata": {
        "id": "p3Hwc34iynrd"
      }
    },
    {
      "cell_type": "code",
      "metadata": {
        "colab": {
          "base_uri": "https://localhost:8080/"
        },
        "id": "ev4sAErNUgAi",
        "outputId": "b0ca826b-23ea-4af8-8e77-674db816a910"
      },
      "source": [
        "price = [2, 1, 10]\n",
        "type(price)"
      ],
      "execution_count": null,
      "outputs": [
        {
          "output_type": "execute_result",
          "data": {
            "text/plain": [
              "list"
            ]
          },
          "metadata": {},
          "execution_count": 26
        }
      ]
    },
    {
      "cell_type": "markdown",
      "source": [
        "The club sells 17 brownies, 40 cookies, and 1 cake.  \n",
        "- Assign these values to a list named quantity_sold."
      ],
      "metadata": {
        "id": "g1ewF5u-yr7W"
      }
    },
    {
      "cell_type": "code",
      "metadata": {
        "colab": {
          "base_uri": "https://localhost:8080/"
        },
        "id": "TkA8x3t5UzQX",
        "outputId": "174e8945-1156-4849-b191-f6dec6d4115b"
      },
      "source": [
        "quantity_sold = [17, 40, 1]\n",
        "type(quantity_sold)"
      ],
      "execution_count": null,
      "outputs": [
        {
          "output_type": "execute_result",
          "data": {
            "text/plain": [
              "list"
            ]
          },
          "metadata": {},
          "execution_count": 27
        }
      ]
    },
    {
      "cell_type": "code",
      "metadata": {
        "id": "tGWEfasRU4J4"
      },
      "source": [
        "# price * quantity"
      ],
      "execution_count": null,
      "outputs": []
    },
    {
      "cell_type": "markdown",
      "source": [
        "The following code will import the NumPy library.  We also use an alias (abbreviation) for most libraries. By convention, NumPy is always assigned the alias \"np\".  "
      ],
      "metadata": {
        "id": "8HBu9Hj9yyuo"
      }
    },
    {
      "cell_type": "code",
      "metadata": {
        "id": "7Pdo44osU7Qr"
      },
      "source": [
        "import numpy as np"
      ],
      "execution_count": null,
      "outputs": []
    },
    {
      "cell_type": "markdown",
      "source": [
        "Since we already created lists for price and quantity, we can convert these to arrays using the following code:"
      ],
      "metadata": {
        "id": "imSSmT7sy4Rl"
      }
    },
    {
      "cell_type": "code",
      "metadata": {
        "colab": {
          "base_uri": "https://localhost:8080/"
        },
        "id": "Y_FoXPDuU9X7",
        "outputId": "2e08a022-1ee4-46f8-8465-7adfae54caa2"
      },
      "source": [
        "price_array = np.array(price)\n",
        "quantity_sold_array = np.array(quantity_sold)\n",
        "type(price_array)"
      ],
      "execution_count": null,
      "outputs": [
        {
          "output_type": "execute_result",
          "data": {
            "text/plain": [
              "numpy.ndarray"
            ]
          },
          "metadata": {},
          "execution_count": 30
        }
      ]
    },
    {
      "cell_type": "markdown",
      "source": [
        "Now, let's go back to our original problem: You would like to find the money collected for each type of item. We want the price * quantity for each item. Let's try multiplying our arrays."
      ],
      "metadata": {
        "id": "u2yTH9Lwy_-G"
      }
    },
    {
      "cell_type": "code",
      "metadata": {
        "colab": {
          "base_uri": "https://localhost:8080/"
        },
        "id": "RHeZ10KPVElu",
        "outputId": "51b6a207-b2f3-48b1-938c-048ca07174e3"
      },
      "source": [
        "price_array * quantity_sold_array"
      ],
      "execution_count": null,
      "outputs": [
        {
          "output_type": "execute_result",
          "data": {
            "text/plain": [
              "array([34, 40, 10])"
            ]
          },
          "metadata": {},
          "execution_count": 31
        }
      ]
    },
    {
      "cell_type": "markdown",
      "source": [
        "As you saw with the above example, the multiplication was applied between the first element of each array, then between the second element of each array, and so on.  This is known as an \"elementwise\" calculation.  Let's look at another example of elementwise calculations.  \n",
        "- First, create a NumPy array that corresponds to the cost to make each of the items sold at the bake sale.  Let's say a brownie costs \\$0.25 to make, a cookie costs \\$0.50 to make, and a cake costs \\$5.00 to make."
      ],
      "metadata": {
        "id": "-Hmh7FhXzNTR"
      }
    },
    {
      "cell_type": "code",
      "metadata": {
        "id": "2VCgaG5kVIsi"
      },
      "source": [
        "cost_array = np.array([0.25, 0.50, 5.00])"
      ],
      "execution_count": null,
      "outputs": []
    },
    {
      "cell_type": "markdown",
      "source": [
        "To find the profit of each item, we want to subtract the cost from the price.  A NumPy array will perform the subtraction elementwise as shown:"
      ],
      "metadata": {
        "id": "4UZyobRnzVxn"
      }
    },
    {
      "cell_type": "code",
      "metadata": {
        "colab": {
          "base_uri": "https://localhost:8080/"
        },
        "id": "Kqz1QjPmVNjc",
        "outputId": "edf545b3-33c0-4a6e-c1b8-e5346faf3043"
      },
      "source": [
        "profit_array = price_array - cost_array\n",
        "print(profit_array)\n"
      ],
      "execution_count": null,
      "outputs": [
        {
          "output_type": "stream",
          "name": "stdout",
          "text": [
            "[1.75 0.5  5.  ]\n"
          ]
        }
      ]
    },
    {
      "cell_type": "markdown",
      "source": [
        "Suppose you wanted to identify which items made a profit greater than $2 per item.  You could use the following code to ask if the statement is true or false for each element in the array."
      ],
      "metadata": {
        "id": "UYnLrJAXzZkd"
      }
    },
    {
      "cell_type": "code",
      "metadata": {
        "colab": {
          "base_uri": "https://localhost:8080/"
        },
        "id": "ypULDNmRVRAY",
        "outputId": "0d413cf3-7fc2-4301-8afc-d23b1f2582b4"
      },
      "source": [
        "profit_array > 2.00\n"
      ],
      "execution_count": null,
      "outputs": [
        {
          "output_type": "execute_result",
          "data": {
            "text/plain": [
              "array([False, False,  True])"
            ]
          },
          "metadata": {},
          "execution_count": 34
        }
      ]
    },
    {
      "cell_type": "markdown",
      "source": [
        "The club will also sell pies for $7 so we need to update our price_array.  Based on your experience with lists, you might think the following code would work to include an additional element to our array: "
      ],
      "metadata": {
        "id": "udGGdarazch0"
      }
    },
    {
      "cell_type": "code",
      "metadata": {
        "colab": {
          "base_uri": "https://localhost:8080/"
        },
        "id": "_vm50VzDVTed",
        "outputId": "abad764c-e527-43f3-a17e-48c3f287b746"
      },
      "source": [
        "price_array = price_array + [7]\n",
        "print(price_array)\n"
      ],
      "execution_count": null,
      "outputs": [
        {
          "output_type": "stream",
          "name": "stdout",
          "text": [
            "[ 9  8 17]\n"
          ]
        }
      ]
    },
    {
      "cell_type": "markdown",
      "source": [
        "**Wait! This is not the output we wanted!**  The NumPy array did what it does best: it added seven to *each element* in the array.  To get back to the original values, we will subtract 7, then use the np.append() function to include the value 7 as desired."
      ],
      "metadata": {
        "id": "1UWbxzZVzgVO"
      }
    },
    {
      "cell_type": "code",
      "metadata": {
        "colab": {
          "base_uri": "https://localhost:8080/"
        },
        "id": "q-YAOQgWVXGw",
        "outputId": "4b5fe485-2a38-4824-d6a1-2c1e8ac8f42d"
      },
      "source": [
        "# Just fixing the mistake\n",
        "price_array = price_array - [7]\n",
        "# The proper way to append an element to an array\n",
        "price_array = np.append(price_array, 7)\n",
        "print(price_array)\n"
      ],
      "execution_count": null,
      "outputs": [
        {
          "output_type": "stream",
          "name": "stdout",
          "text": [
            "[ 2  1 10  7]\n"
          ]
        }
      ]
    },
    {
      "cell_type": "markdown",
      "source": [
        "**You can also append multiple values to the array in one command.**\n",
        "\n",
        "For example, the club want to add the following prices:  \\$4.50 for fudge, \\$3 for a cupcake, \\$4 for a loaf of banana bread, and $9 for a torte.  Notice the use of the square brackets in the following code that appends all three values to the array at once:"
      ],
      "metadata": {
        "id": "BuLwIAh5zjUU"
      }
    },
    {
      "cell_type": "code",
      "metadata": {
        "colab": {
          "base_uri": "https://localhost:8080/"
        },
        "id": "SO786-UWVZMi",
        "outputId": "5dfa8102-33d0-4690-8b07-3ce0aaa2b573"
      },
      "source": [
        "price_array = np.append(price_array, [4.50, 3, 4, 9])\n",
        "print(price_array)\n",
        "\n"
      ],
      "execution_count": null,
      "outputs": [
        {
          "output_type": "stream",
          "name": "stdout",
          "text": [
            "[ 2.   1.  10.   7.   4.5  3.   4.   9. ]\n"
          ]
        }
      ]
    },
    {
      "cell_type": "code",
      "metadata": {
        "colab": {
          "base_uri": "https://localhost:8080/"
        },
        "id": "-4vXAPEcVdcU",
        "outputId": "72dc5e66-d073-4ecc-cc67-a48b1b7e33e5"
      },
      "source": [
        "print(price_array.dtype)\n"
      ],
      "execution_count": null,
      "outputs": [
        {
          "output_type": "stream",
          "name": "stdout",
          "text": [
            "float64\n"
          ]
        }
      ]
    },
    {
      "cell_type": "markdown",
      "source": [
        "It turns out nobody plans to make a torte, so they want to remove the price of that item from the array.  We will use the np.delete() command, but we need to indicate which element to delete.  We use indexing (much the same as indexing for lists) to indicate we want to remove the element at index 7 (remember to use zero-indexing) or since it is the last element, we could go from the right and use element -1. "
      ],
      "metadata": {
        "id": "HeRbIBYCzm2L"
      }
    },
    {
      "cell_type": "code",
      "metadata": {
        "colab": {
          "base_uri": "https://localhost:8080/"
        },
        "id": "y8-tYZcHVgon",
        "outputId": "6feebd01-c125-4fce-dfc0-653d761c4ef6"
      },
      "source": [
        "price_array = np.delete(price_array, -1)\n",
        "print(price_array)\n"
      ],
      "execution_count": null,
      "outputs": [
        {
          "output_type": "stream",
          "name": "stdout",
          "text": [
            "[ 2.   1.  10.   7.   4.5  3.   4. ]\n"
          ]
        }
      ]
    },
    {
      "cell_type": "markdown",
      "source": [
        "Next the club decides to raise the price of cakes from \\$10 to \\$12.  Once again, we will need to identify the element using the index.  Cakes are at index 2."
      ],
      "metadata": {
        "id": "BryGKYs5zq9u"
      }
    },
    {
      "cell_type": "code",
      "metadata": {
        "colab": {
          "base_uri": "https://localhost:8080/"
        },
        "id": "LR2xG2_FVjLr",
        "outputId": "16f1e7ae-ad6b-412d-ac8e-39f3c0787fad"
      },
      "source": [
        "price_array[2] = 12\n",
        "print(price_array)\n"
      ],
      "execution_count": null,
      "outputs": [
        {
          "output_type": "stream",
          "name": "stdout",
          "text": [
            "[ 2.   1.  12.   7.   4.5  3.   4. ]\n"
          ]
        }
      ]
    },
    {
      "cell_type": "markdown",
      "source": [
        "1) USE THIS NOTEBOOK TO START THE CODE WHERE THE LESSON LEFT OFF."
      ],
      "metadata": {
        "id": "l8IAB9J92gND"
      }
    },
    {
      "cell_type": "markdown",
      "source": [
        "# The Assignment Starts Here"
      ],
      "metadata": {
        "id": "uIUAfF9c2jJ1"
      }
    },
    {
      "cell_type": "markdown",
      "metadata": {
        "id": "1xunhHPaWCi-"
      },
      "source": [
        "2) Update the  quantity_sold_array to include the sale of 2 pies,  3 trays of fudge, 16 cupcakes, and 5 loaves of banana bread.  You also realize that one of the cookies you thought was sold had actually fallen on the ground, so edit the quantity_sold_array from 40 to 39."
      ]
    },
    {
      "cell_type": "code",
      "source": [
        "import numpy as np\n"
      ],
      "metadata": {
        "id": "C0v3YflnTRJX"
      },
      "execution_count": null,
      "outputs": []
    },
    {
      "cell_type": "code",
      "metadata": {
        "id": "k8a4SXVKVpDa",
        "outputId": "b3de0b1f-7030-4f4c-e0e8-6356ecbe8761",
        "colab": {
          "base_uri": "https://localhost:8080/"
        }
      },
      "source": [
        "quantity_sold = [17, 40, 1]\n",
        "type(quantity_sold)"
      ],
      "execution_count": null,
      "outputs": [
        {
          "output_type": "execute_result",
          "data": {
            "text/plain": [
              "list"
            ]
          },
          "metadata": {},
          "execution_count": 42
        }
      ]
    },
    {
      "cell_type": "code",
      "source": [
        "quantity_sold_array = np.array(quantity_sold)"
      ],
      "metadata": {
        "id": "uBVzIm3PWNzW"
      },
      "execution_count": null,
      "outputs": []
    },
    {
      "cell_type": "code",
      "source": [
        "quantity_sold_array[1] = 39\n",
        "print(quantity_sold_array)"
      ],
      "metadata": {
        "id": "t5xt1X--uaDe",
        "outputId": "ef3bff8d-14cd-4253-d2a7-b685fe31b35e",
        "colab": {
          "base_uri": "https://localhost:8080/"
        }
      },
      "execution_count": null,
      "outputs": [
        {
          "output_type": "stream",
          "name": "stdout",
          "text": [
            "[17 39  1]\n"
          ]
        }
      ]
    },
    {
      "cell_type": "code",
      "source": [
        "quantity_sold_array = np.append(quantity_sold_array, [2, 3, 16, 5])\n",
        "print(quantity_sold_array)"
      ],
      "metadata": {
        "id": "ZGzQBrkJWl9G",
        "outputId": "924947bd-1b0f-42a7-de2a-8fab0cad5ef5",
        "colab": {
          "base_uri": "https://localhost:8080/"
        }
      },
      "execution_count": null,
      "outputs": [
        {
          "output_type": "stream",
          "name": "stdout",
          "text": [
            "[17 39  1  2  3 16  5]\n"
          ]
        }
      ]
    },
    {
      "cell_type": "markdown",
      "metadata": {
        "id": "vfIgDaikWFdw"
      },
      "source": [
        "3) Determine the amount of money collected from the sale of each item at the bake sale.  "
      ]
    },
    {
      "cell_type": "code",
      "metadata": {
        "id": "ikN8urc4WH86",
        "outputId": "f9ce71f9-608e-47dd-c48b-e9d62e69fcd4",
        "colab": {
          "base_uri": "https://localhost:8080/"
        }
      },
      "source": [
        "price = [ 2, 1,  12,   7,   4.5,  3,   4, ]\n",
        "type(price)"
      ],
      "execution_count": null,
      "outputs": [
        {
          "output_type": "execute_result",
          "data": {
            "text/plain": [
              "list"
            ]
          },
          "metadata": {},
          "execution_count": 46
        }
      ]
    },
    {
      "cell_type": "code",
      "source": [
        "price_array = np.array(price)\n",
        "type(price_array)"
      ],
      "metadata": {
        "id": "mBVGf9z3ZnfE",
        "outputId": "d7effdb3-569a-42a2-aefa-c55a74240232",
        "colab": {
          "base_uri": "https://localhost:8080/"
        }
      },
      "execution_count": null,
      "outputs": [
        {
          "output_type": "execute_result",
          "data": {
            "text/plain": [
              "numpy.ndarray"
            ]
          },
          "metadata": {},
          "execution_count": 47
        }
      ]
    },
    {
      "cell_type": "code",
      "source": [
        "quantity_sold_array * price_array"
      ],
      "metadata": {
        "id": "PYkwwuM9Zu1b",
        "outputId": "fd3deab6-c1c6-4fb7-bcf3-38757500dd74",
        "colab": {
          "base_uri": "https://localhost:8080/"
        }
      },
      "execution_count": null,
      "outputs": [
        {
          "output_type": "execute_result",
          "data": {
            "text/plain": [
              "array([34. , 39. , 12. , 14. , 13.5, 48. , 20. ])"
            ]
          },
          "metadata": {},
          "execution_count": 48
        }
      ]
    },
    {
      "cell_type": "markdown",
      "metadata": {
        "id": "v8xG8a77WyTV"
      },
      "source": [
        "4) Create a NumPy array \"quantity_leftover\" that includes the quantity of each item remaining at the end of the sale: 2 cakes, 1 pie, 6 trays of fudge, 2 loaves of banana bread.  Hint: Make sure to include \"0\" for any item that was sold out. Why is this important when creating the array?"
      ]
    },
    {
      "cell_type": "code",
      "metadata": {
        "id": "_OSmjj-mWNE2",
        "outputId": "438013a1-a2cb-497d-cabd-14883ab3008b",
        "colab": {
          "base_uri": "https://localhost:8080/"
        }
      },
      "source": [
        "quantity_leftover = [2, 1, 6, 2, 0, 0, 0]\n",
        "type(quantity_leftover) "
      ],
      "execution_count": null,
      "outputs": [
        {
          "output_type": "execute_result",
          "data": {
            "text/plain": [
              "list"
            ]
          },
          "metadata": {},
          "execution_count": 50
        }
      ]
    },
    {
      "cell_type": "code",
      "source": [
        "quantity_leftover = np.array(quantity_leftover)\n",
        "type(quantity_leftover)"
      ],
      "metadata": {
        "id": "lAv2jC1Sz32K",
        "outputId": "e615d0f2-8437-4c79-e795-acd95773f4ab",
        "colab": {
          "base_uri": "https://localhost:8080/"
        }
      },
      "execution_count": null,
      "outputs": [
        {
          "output_type": "execute_result",
          "data": {
            "text/plain": [
              "numpy.ndarray"
            ]
          },
          "metadata": {},
          "execution_count": 51
        }
      ]
    },
    {
      "cell_type": "markdown",
      "metadata": {
        "id": "Pny1zRYZW1AF"
      },
      "source": [
        "5) The club decides to sell the leftover items at half price and everything quickly sells out!  Determine how much money was collected from the clearance sale. "
      ]
    },
    {
      "cell_type": "code",
      "metadata": {
        "id": "VPymUS0wW39q",
        "outputId": "6402a3e3-db6b-401b-94ca-d4f8cd1c2ec0",
        "colab": {
          "base_uri": "https://localhost:8080/"
        }
      },
      "source": [
        "clearance_price = price_array / 2\n",
        "print(clearance_price)\n"
      ],
      "execution_count": null,
      "outputs": [
        {
          "output_type": "stream",
          "name": "stdout",
          "text": [
            "[1.   0.5  6.   3.5  2.25 1.5  2.  ]\n"
          ]
        }
      ]
    },
    {
      "cell_type": "markdown",
      "source": [
        "# Clearance price for each item \n",
        "Pie = $3.50 (1 pie left)\n",
        "\n",
        "Tray of fudge = $2.25 (6 trays of fudge left)\n",
        "\n",
        "Cakes = $6 (2 cakes left)\n",
        "\n",
        "Cupcakes = $1.5 (0 left)\n",
        "\n",
        "Loafs of Banana Bread = $2 (2 loaves of bread left)\n",
        "\n",
        "Brownies = $1 (0 left)\n",
        "\n",
        "Cookies = $0.50 (0 left)\n",
        "\n"
      ],
      "metadata": {
        "id": "WTMZJLj-9olY"
      }
    },
    {
      "cell_type": "code",
      "source": [
        "clearance_total_amount = np.sum(3.50*1 + 6*2 + 6*2.25 + 2*2)\n",
        "print(clearance_total_amount)"
      ],
      "metadata": {
        "id": "KLOaWnz6ApL2",
        "outputId": "a9a1f719-c056-48db-8452-a8b219810eb1",
        "colab": {
          "base_uri": "https://localhost:8080/"
        }
      },
      "execution_count": null,
      "outputs": [
        {
          "output_type": "stream",
          "name": "stdout",
          "text": [
            "33.0\n"
          ]
        }
      ]
    },
    {
      "cell_type": "markdown",
      "source": [
        "The total amount made from the clearance sale was **$33**"
      ],
      "metadata": {
        "id": "4xF7kC4sBm0J"
      }
    },
    {
      "cell_type": "markdown",
      "metadata": {
        "id": "dDqAKj9jXLz4"
      },
      "source": [
        "6) How much total money was collected from the bake sale (including the sale of full price and clearance items)?\n",
        "\n",
        "Hint: Your final answer should be $213.50, but you must make sure you get this answer with your NumPy coding skills!!"
      ]
    },
    {
      "cell_type": "code",
      "metadata": {
        "id": "CmqGXhMHXOFD",
        "outputId": "70549b6a-85a0-4cef-e1ae-b84da18c12c4",
        "colab": {
          "base_uri": "https://localhost:8080/"
        }
      },
      "source": [
        "price_total_amount = ([34. + 39. + 12. + 14. + 13.5 + 48. +20. ])\n",
        "print(price_total_amount) \n"
      ],
      "execution_count": null,
      "outputs": [
        {
          "output_type": "stream",
          "name": "stdout",
          "text": [
            "[180.5]\n"
          ]
        }
      ]
    },
    {
      "cell_type": "code",
      "source": [
        "grand_total_amount = np.sum(price_total_amount + clearance_total_amount)\n",
        "print(grand_total_amount)"
      ],
      "metadata": {
        "id": "ZaunLEUpLSD4",
        "outputId": "3041f449-86ce-419e-bdae-8df606274d91",
        "colab": {
          "base_uri": "https://localhost:8080/"
        }
      },
      "execution_count": null,
      "outputs": [
        {
          "output_type": "stream",
          "name": "stdout",
          "text": [
            "213.5\n"
          ]
        }
      ]
    },
    {
      "cell_type": "markdown",
      "source": [
        "The total amount collected from the Bake sale was **$213.50**"
      ],
      "metadata": {
        "id": "r965Lfg-LpHZ"
      }
    }
  ]
}