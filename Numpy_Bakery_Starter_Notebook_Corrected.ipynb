{
  "nbformat": 4,
  "nbformat_minor": 0,
  "metadata": {
    "colab": {
      "name": "Numpy_Bakery_Starter_Notebook_Corrected.ipynb",
      "provenance": [],
      "collapsed_sections": [
        "uIUAfF9c2jJ1"
      ],
      "include_colab_link": true
    },
    "kernelspec": {
      "name": "python3",
      "display_name": "Python 3"
    },
    "language_info": {
      "name": "python"
    }
  },
  "cells": [
    {
      "cell_type": "markdown",
      "metadata": {
        "id": "view-in-github",
        "colab_type": "text"
      },
      "source": [
        "<a href=\"https://colab.research.google.com/github/Genullz/sales-predictions/blob/main/Numpy_Bakery_Starter_Notebook_Corrected.ipynb\" target=\"_parent\"><img src=\"https://colab.research.google.com/assets/colab-badge.svg\" alt=\"Open In Colab\"/></a>"
      ]
    },
    {
      "cell_type": "markdown",
      "source": [
        "# Bakery Numpy Exercise (Core) \n",
        "\n",
        "Note: One challenge of this exercise is staying organized, so we recommend you keep track of what is going on with paper and pencil as you work through the exercise."
      ],
      "metadata": {
        "id": "c-7UVcOE2FTD"
      }
    },
    {
      "cell_type": "markdown",
      "source": [
        "The selling price of 3 items at the bake sale are: \\$2 for a brownie, \\$1 for a cookie, \\$10 for a cake.\n",
        "- Assign these values to a list named price."
      ],
      "metadata": {
        "id": "p3Hwc34iynrd"
      }
    },
    {
      "cell_type": "code",
      "metadata": {
        "colab": {
          "base_uri": "https://localhost:8080/"
        },
        "id": "ev4sAErNUgAi",
        "outputId": "63cfaad3-352d-45bf-b42f-971c72c98ba7"
      },
      "source": [
        "price = [2, 1, 10]\n",
        "type(price)"
      ],
      "execution_count": 1,
      "outputs": [
        {
          "output_type": "execute_result",
          "data": {
            "text/plain": [
              "list"
            ]
          },
          "metadata": {},
          "execution_count": 1
        }
      ]
    },
    {
      "cell_type": "markdown",
      "source": [
        "The club sells 17 brownies, 40 cookies, and 1 cake.  \n",
        "- Assign these values to a list named quantity_sold."
      ],
      "metadata": {
        "id": "g1ewF5u-yr7W"
      }
    },
    {
      "cell_type": "code",
      "metadata": {
        "colab": {
          "base_uri": "https://localhost:8080/"
        },
        "id": "TkA8x3t5UzQX",
        "outputId": "9dcbed5b-8eeb-4cd9-83c6-59d0ee5a78d1"
      },
      "source": [
        "quantity_sold = [17, 40, 1]\n",
        "type(quantity_sold)"
      ],
      "execution_count": 2,
      "outputs": [
        {
          "output_type": "execute_result",
          "data": {
            "text/plain": [
              "list"
            ]
          },
          "metadata": {},
          "execution_count": 2
        }
      ]
    },
    {
      "cell_type": "code",
      "metadata": {
        "id": "tGWEfasRU4J4"
      },
      "source": [
        "# price * quantity"
      ],
      "execution_count": 3,
      "outputs": []
    },
    {
      "cell_type": "markdown",
      "source": [
        "The following code will import the NumPy library.  We also use an alias (abbreviation) for most libraries. By convention, NumPy is always assigned the alias \"np\".  "
      ],
      "metadata": {
        "id": "8HBu9Hj9yyuo"
      }
    },
    {
      "cell_type": "code",
      "metadata": {
        "id": "7Pdo44osU7Qr"
      },
      "source": [
        "import numpy as np"
      ],
      "execution_count": 4,
      "outputs": []
    },
    {
      "cell_type": "markdown",
      "source": [
        "Since we already created lists for price and quantity, we can convert these to arrays using the following code:"
      ],
      "metadata": {
        "id": "imSSmT7sy4Rl"
      }
    },
    {
      "cell_type": "code",
      "metadata": {
        "colab": {
          "base_uri": "https://localhost:8080/"
        },
        "id": "Y_FoXPDuU9X7",
        "outputId": "aea4156a-d98b-4545-faec-54d4550a3325"
      },
      "source": [
        "price_array = np.array(price)\n",
        "quantity_sold_array = np.array(quantity_sold)\n",
        "type(price_array)"
      ],
      "execution_count": 5,
      "outputs": [
        {
          "output_type": "execute_result",
          "data": {
            "text/plain": [
              "numpy.ndarray"
            ]
          },
          "metadata": {},
          "execution_count": 5
        }
      ]
    },
    {
      "cell_type": "markdown",
      "source": [
        "Now, let's go back to our original problem: You would like to find the money collected for each type of item. We want the price * quantity for each item. Let's try multiplying our arrays."
      ],
      "metadata": {
        "id": "u2yTH9Lwy_-G"
      }
    },
    {
      "cell_type": "code",
      "metadata": {
        "colab": {
          "base_uri": "https://localhost:8080/"
        },
        "id": "RHeZ10KPVElu",
        "outputId": "5c8b46c9-5b14-4e1d-b1c3-08fe37abef90"
      },
      "source": [
        "price_array * quantity_sold_array"
      ],
      "execution_count": 6,
      "outputs": [
        {
          "output_type": "execute_result",
          "data": {
            "text/plain": [
              "array([34, 40, 10])"
            ]
          },
          "metadata": {},
          "execution_count": 6
        }
      ]
    },
    {
      "cell_type": "markdown",
      "source": [
        "As you saw with the above example, the multiplication was applied between the first element of each array, then between the second element of each array, and so on.  This is known as an \"elementwise\" calculation.  Let's look at another example of elementwise calculations.  \n",
        "- First, create a NumPy array that corresponds to the cost to make each of the items sold at the bake sale.  Let's say a brownie costs \\$0.25 to make, a cookie costs \\$0.50 to make, and a cake costs \\$5.00 to make."
      ],
      "metadata": {
        "id": "-Hmh7FhXzNTR"
      }
    },
    {
      "cell_type": "code",
      "metadata": {
        "id": "2VCgaG5kVIsi"
      },
      "source": [
        "cost_array = np.array([0.25, 0.50, 5.00])"
      ],
      "execution_count": 7,
      "outputs": []
    },
    {
      "cell_type": "markdown",
      "source": [
        "To find the profit of each item, we want to subtract the cost from the price.  A NumPy array will perform the subtraction elementwise as shown:"
      ],
      "metadata": {
        "id": "4UZyobRnzVxn"
      }
    },
    {
      "cell_type": "code",
      "metadata": {
        "colab": {
          "base_uri": "https://localhost:8080/"
        },
        "id": "Kqz1QjPmVNjc",
        "outputId": "b869516b-cfcd-42bb-be24-fb931c1e04fc"
      },
      "source": [
        "profit_array = price_array - cost_array\n",
        "print(profit_array)\n"
      ],
      "execution_count": 8,
      "outputs": [
        {
          "output_type": "stream",
          "name": "stdout",
          "text": [
            "[1.75 0.5  5.  ]\n"
          ]
        }
      ]
    },
    {
      "cell_type": "markdown",
      "source": [
        "Suppose you wanted to identify which items made a profit greater than $2 per item.  You could use the following code to ask if the statement is true or false for each element in the array."
      ],
      "metadata": {
        "id": "UYnLrJAXzZkd"
      }
    },
    {
      "cell_type": "code",
      "metadata": {
        "colab": {
          "base_uri": "https://localhost:8080/"
        },
        "id": "ypULDNmRVRAY",
        "outputId": "6242790b-7e47-4bdd-c71d-14716087c273"
      },
      "source": [
        "profit_array > 2.00\n"
      ],
      "execution_count": 9,
      "outputs": [
        {
          "output_type": "execute_result",
          "data": {
            "text/plain": [
              "array([False, False,  True])"
            ]
          },
          "metadata": {},
          "execution_count": 9
        }
      ]
    },
    {
      "cell_type": "markdown",
      "source": [
        "The club will also sell pies for $7 so we need to update our price_array.  Based on your experience with lists, you might think the following code would work to include an additional element to our array: "
      ],
      "metadata": {
        "id": "udGGdarazch0"
      }
    },
    {
      "cell_type": "code",
      "metadata": {
        "colab": {
          "base_uri": "https://localhost:8080/"
        },
        "id": "_vm50VzDVTed",
        "outputId": "b68b352a-f5fe-43e7-9184-04d766c7f40d"
      },
      "source": [
        "price_array = price_array + [7]\n",
        "print(price_array)\n"
      ],
      "execution_count": 10,
      "outputs": [
        {
          "output_type": "stream",
          "name": "stdout",
          "text": [
            "[ 9  8 17]\n"
          ]
        }
      ]
    },
    {
      "cell_type": "markdown",
      "source": [
        "**Wait! This is not the output we wanted!**  The NumPy array did what it does best: it added seven to *each element* in the array.  To get back to the original values, we will subtract 7, then use the np.append() function to include the value 7 as desired."
      ],
      "metadata": {
        "id": "1UWbxzZVzgVO"
      }
    },
    {
      "cell_type": "code",
      "metadata": {
        "colab": {
          "base_uri": "https://localhost:8080/"
        },
        "id": "q-YAOQgWVXGw",
        "outputId": "50dd4aa0-35b4-4313-f41c-f9e7eecf181d"
      },
      "source": [
        "# Just fixing the mistake\n",
        "price_array = price_array - [7]\n",
        "# The proper way to append an element to an array\n",
        "price_array = np.append(price_array, 7)\n",
        "print(price_array)\n"
      ],
      "execution_count": 11,
      "outputs": [
        {
          "output_type": "stream",
          "name": "stdout",
          "text": [
            "[ 2  1 10  7]\n"
          ]
        }
      ]
    },
    {
      "cell_type": "markdown",
      "source": [
        "**You can also append multiple values to the array in one command.**\n",
        "\n",
        "For example, the club want to add the following prices:  \\$4.50 for fudge, \\$3 for a cupcake, \\$4 for a loaf of banana bread, and $9 for a torte.  Notice the use of the square brackets in the following code that appends all three values to the array at once:"
      ],
      "metadata": {
        "id": "BuLwIAh5zjUU"
      }
    },
    {
      "cell_type": "code",
      "metadata": {
        "colab": {
          "base_uri": "https://localhost:8080/"
        },
        "id": "SO786-UWVZMi",
        "outputId": "b238edbf-52d8-4488-bab8-5861b20aa301"
      },
      "source": [
        "price_array = np.append(price_array, [4.50, 3, 4, 9])\n",
        "print(price_array)\n",
        "\n"
      ],
      "execution_count": 12,
      "outputs": [
        {
          "output_type": "stream",
          "name": "stdout",
          "text": [
            "[ 2.   1.  10.   7.   4.5  3.   4.   9. ]\n"
          ]
        }
      ]
    },
    {
      "cell_type": "code",
      "metadata": {
        "colab": {
          "base_uri": "https://localhost:8080/"
        },
        "id": "-4vXAPEcVdcU",
        "outputId": "03804479-9e80-477c-aef5-e77139d4aebb"
      },
      "source": [
        "print(price_array.dtype)\n"
      ],
      "execution_count": 13,
      "outputs": [
        {
          "output_type": "stream",
          "name": "stdout",
          "text": [
            "float64\n"
          ]
        }
      ]
    },
    {
      "cell_type": "markdown",
      "source": [
        "It turns out nobody plans to make a torte, so they want to remove the price of that item from the array.  We will use the np.delete() command, but we need to indicate which element to delete.  We use indexing (much the same as indexing for lists) to indicate we want to remove the element at index 7 (remember to use zero-indexing) or since it is the last element, we could go from the right and use element -1. "
      ],
      "metadata": {
        "id": "HeRbIBYCzm2L"
      }
    },
    {
      "cell_type": "code",
      "metadata": {
        "colab": {
          "base_uri": "https://localhost:8080/"
        },
        "id": "y8-tYZcHVgon",
        "outputId": "1886e03c-13f3-477d-ae1a-225c120951e9"
      },
      "source": [
        "price_array = np.delete(price_array, -1)\n",
        "print(price_array)\n"
      ],
      "execution_count": 14,
      "outputs": [
        {
          "output_type": "stream",
          "name": "stdout",
          "text": [
            "[ 2.   1.  10.   7.   4.5  3.   4. ]\n"
          ]
        }
      ]
    },
    {
      "cell_type": "markdown",
      "source": [
        "Next the club decides to raise the price of cakes from \\$10 to \\$12.  Once again, we will need to identify the element using the index.  Cakes are at index 2."
      ],
      "metadata": {
        "id": "BryGKYs5zq9u"
      }
    },
    {
      "cell_type": "code",
      "metadata": {
        "colab": {
          "base_uri": "https://localhost:8080/"
        },
        "id": "LR2xG2_FVjLr",
        "outputId": "94a70207-6b52-44ae-a784-ece0551e8435"
      },
      "source": [
        "price_array[2] = 12\n",
        "print(price_array)\n"
      ],
      "execution_count": 15,
      "outputs": [
        {
          "output_type": "stream",
          "name": "stdout",
          "text": [
            "[ 2.   1.  12.   7.   4.5  3.   4. ]\n"
          ]
        }
      ]
    },
    {
      "cell_type": "markdown",
      "source": [
        "1) USE THIS NOTEBOOK TO START THE CODE WHERE THE LESSON LEFT OFF."
      ],
      "metadata": {
        "id": "l8IAB9J92gND"
      }
    },
    {
      "cell_type": "markdown",
      "source": [
        "# The Assignment Starts Here"
      ],
      "metadata": {
        "id": "uIUAfF9c2jJ1"
      }
    },
    {
      "cell_type": "markdown",
      "metadata": {
        "id": "1xunhHPaWCi-"
      },
      "source": [
        "2) Update the  quantity_sold_array to include the sale of 2 pies,  3 trays of fudge, 16 cupcakes, and 5 loaves of banana bread.  You also realize that one of the cookies you thought was sold had actually fallen on the ground, so edit the quantity_sold_array from 40 to 39."
      ]
    },
    {
      "cell_type": "code",
      "source": [
        "import numpy as np\n"
      ],
      "metadata": {
        "id": "C0v3YflnTRJX"
      },
      "execution_count": 16,
      "outputs": []
    },
    {
      "cell_type": "code",
      "metadata": {
        "id": "k8a4SXVKVpDa",
        "outputId": "05da2538-072f-4185-c31c-c442fad444fe",
        "colab": {
          "base_uri": "https://localhost:8080/"
        }
      },
      "source": [
        "quantity_sold = [17, 40, 1]\n",
        "type(quantity_sold)"
      ],
      "execution_count": 17,
      "outputs": [
        {
          "output_type": "execute_result",
          "data": {
            "text/plain": [
              "list"
            ]
          },
          "metadata": {},
          "execution_count": 17
        }
      ]
    },
    {
      "cell_type": "code",
      "source": [
        "quantity_sold_array = np.array(quantity_sold)"
      ],
      "metadata": {
        "id": "uBVzIm3PWNzW"
      },
      "execution_count": 18,
      "outputs": []
    },
    {
      "cell_type": "code",
      "source": [
        "quantity_sold_array[1] = 39\n",
        "print(quantity_sold_array)"
      ],
      "metadata": {
        "id": "t5xt1X--uaDe",
        "outputId": "d72667f5-2e82-4038-956a-f8c5204b327b",
        "colab": {
          "base_uri": "https://localhost:8080/"
        }
      },
      "execution_count": 19,
      "outputs": [
        {
          "output_type": "stream",
          "name": "stdout",
          "text": [
            "[17 39  1]\n"
          ]
        }
      ]
    },
    {
      "cell_type": "code",
      "source": [
        "quantity_sold_array = np.append(quantity_sold_array, [2, 3, 16, 5])\n",
        "print(quantity_sold_array)"
      ],
      "metadata": {
        "id": "ZGzQBrkJWl9G",
        "outputId": "6085e174-83bb-4aaa-9510-1059cfdb72d6",
        "colab": {
          "base_uri": "https://localhost:8080/"
        }
      },
      "execution_count": 20,
      "outputs": [
        {
          "output_type": "stream",
          "name": "stdout",
          "text": [
            "[17 39  1  2  3 16  5]\n"
          ]
        }
      ]
    },
    {
      "cell_type": "markdown",
      "metadata": {
        "id": "vfIgDaikWFdw"
      },
      "source": [
        "3) Determine the amount of money collected from the sale of each item at the bake sale.  "
      ]
    },
    {
      "cell_type": "code",
      "metadata": {
        "id": "ikN8urc4WH86",
        "outputId": "3ff2dfc3-6d4f-42db-d38f-8cf475e2d61c",
        "colab": {
          "base_uri": "https://localhost:8080/"
        }
      },
      "source": [
        "price = [ 2, 1,  12,   7,   4.5,  3,   4, ]\n",
        "type(price)"
      ],
      "execution_count": 21,
      "outputs": [
        {
          "output_type": "execute_result",
          "data": {
            "text/plain": [
              "list"
            ]
          },
          "metadata": {},
          "execution_count": 21
        }
      ]
    },
    {
      "cell_type": "code",
      "source": [
        "price_array = np.array(price)\n",
        "type(price_array)"
      ],
      "metadata": {
        "id": "mBVGf9z3ZnfE",
        "outputId": "fa2b8b0b-4c94-4cd8-b6fe-dc4c6863f4cc",
        "colab": {
          "base_uri": "https://localhost:8080/"
        }
      },
      "execution_count": 22,
      "outputs": [
        {
          "output_type": "execute_result",
          "data": {
            "text/plain": [
              "numpy.ndarray"
            ]
          },
          "metadata": {},
          "execution_count": 22
        }
      ]
    },
    {
      "cell_type": "code",
      "source": [
        "quantity_sold_array * price_array"
      ],
      "metadata": {
        "id": "PYkwwuM9Zu1b",
        "outputId": "cca3da9d-085c-4723-8b43-f72401e6f31d",
        "colab": {
          "base_uri": "https://localhost:8080/"
        }
      },
      "execution_count": 23,
      "outputs": [
        {
          "output_type": "execute_result",
          "data": {
            "text/plain": [
              "array([34. , 39. , 12. , 14. , 13.5, 48. , 20. ])"
            ]
          },
          "metadata": {},
          "execution_count": 23
        }
      ]
    },
    {
      "cell_type": "markdown",
      "metadata": {
        "id": "v8xG8a77WyTV"
      },
      "source": [
        "4) Create a NumPy array \"quantity_leftover\" that includes the quantity of each item remaining at the end of the sale: 2 cakes, 1 pie, 6 trays of fudge, 2 loaves of banana bread.  Hint: Make sure to include \"0\" for any item that was sold out. Why is this important when creating the array?"
      ]
    },
    {
      "cell_type": "code",
      "metadata": {
        "id": "_OSmjj-mWNE2",
        "outputId": "db922005-7d8b-49b8-c5fb-13e303461354",
        "colab": {
          "base_uri": "https://localhost:8080/"
        }
      },
      "source": [
        "quantity_leftover = [2, 1, 6, 2, 0, 0, 0]\n",
        "type(quantity_leftover) "
      ],
      "execution_count": 24,
      "outputs": [
        {
          "output_type": "execute_result",
          "data": {
            "text/plain": [
              "list"
            ]
          },
          "metadata": {},
          "execution_count": 24
        }
      ]
    },
    {
      "cell_type": "code",
      "source": [
        "quantity_leftover = np.array(quantity_leftover)\n",
        "type(quantity_leftover)"
      ],
      "metadata": {
        "id": "lAv2jC1Sz32K",
        "outputId": "a8cb385d-dbaf-4edd-e805-cf2a6c931498",
        "colab": {
          "base_uri": "https://localhost:8080/"
        }
      },
      "execution_count": 25,
      "outputs": [
        {
          "output_type": "execute_result",
          "data": {
            "text/plain": [
              "numpy.ndarray"
            ]
          },
          "metadata": {},
          "execution_count": 25
        }
      ]
    },
    {
      "cell_type": "markdown",
      "metadata": {
        "id": "Pny1zRYZW1AF"
      },
      "source": [
        "5) The club decides to sell the leftover items at half price and everything quickly sells out!  Determine how much money was collected from the clearance sale. "
      ]
    },
    {
      "cell_type": "code",
      "metadata": {
        "id": "VPymUS0wW39q",
        "outputId": "5874383f-564d-40f7-f3c4-577cf861d819",
        "colab": {
          "base_uri": "https://localhost:8080/"
        }
      },
      "source": [
        "clearance_price = price_array / 2\n",
        "print(clearance_price)\n"
      ],
      "execution_count": 26,
      "outputs": [
        {
          "output_type": "stream",
          "name": "stdout",
          "text": [
            "[1.   0.5  6.   3.5  2.25 1.5  2.  ]\n"
          ]
        }
      ]
    },
    {
      "cell_type": "markdown",
      "source": [
        "# Clearance price for each item \n",
        "Pie = $3.50 (1 pie left)\n",
        "\n",
        "Tray of fudge = $2.25 (6 trays of fudge left)\n",
        "\n",
        "Cakes = $6 (2 cakes left)\n",
        "\n",
        "Cupcakes = $1.5 (0 left)\n",
        "\n",
        "Loafs of Banana Bread = $2 (2 loaves of bread left)\n",
        "\n",
        "Brownies = $1 (0 left)\n",
        "\n",
        "Cookies = $0.50 (0 left)\n",
        "\n"
      ],
      "metadata": {
        "id": "WTMZJLj-9olY"
      }
    },
    {
      "cell_type": "code",
      "source": [],
      "metadata": {
        "id": "DTNjRnqTrNcm"
      },
      "execution_count": 26,
      "outputs": []
    },
    {
      "cell_type": "code",
      "source": [
        "pie_cost_array = np.array(3.50)\n",
        "pie_lo_quantity_array = np.array(1)\n",
        "pie_clearance_total_amount_array = pie_cost_array * pie_lo_quantity_array"
      ],
      "metadata": {
        "id": "tiyzCLI8j9Ln"
      },
      "execution_count": 27,
      "outputs": []
    },
    {
      "cell_type": "code",
      "source": [
        "fudge_cost_array = np.array(2.25)\n",
        "fudge_lo_quantity_array = np.array(6)\n",
        "fudge_clearance_total_amount_array = fudge_cost_array * fudge_lo_quantity_array"
      ],
      "metadata": {
        "id": "7ATG6CBbr7D7"
      },
      "execution_count": 28,
      "outputs": []
    },
    {
      "cell_type": "code",
      "source": [
        "cakes_cost_array = np.array(6)\n",
        "cakes_lo_quantity_array = np.array(2)\n",
        "cakes_clearance_total_amount_array = cakes_cost_array * cakes_lo_quantity_array"
      ],
      "metadata": {
        "id": "dKFthEvTsGyj"
      },
      "execution_count": 29,
      "outputs": []
    },
    {
      "cell_type": "code",
      "source": [
        "bananabread_cost_array = np.array(2)\n",
        "bananabread_lo_quantity_array = np.array(2)\n",
        "bananabread_clearance_total_amount_array = bananabread_cost_array * bananabread_lo_quantity_array"
      ],
      "metadata": {
        "id": "g_ln7IdYsKdX"
      },
      "execution_count": 30,
      "outputs": []
    },
    {
      "cell_type": "code",
      "source": [
        "grand_total_clearance_amount_array = np.array(fudge_clearance_total_amount_array + pie_clearance_total_amount_array + cakes_clearance_total_amount_array + bananabread_clearance_total_amount_array)\n",
        "print(grand_total_clearance_amount_array)"
      ],
      "metadata": {
        "colab": {
          "base_uri": "https://localhost:8080/"
        },
        "id": "BWQmdK22v0vH",
        "outputId": "4fc1369b-f399-440a-d325-9cb478381767"
      },
      "execution_count": 31,
      "outputs": [
        {
          "output_type": "stream",
          "name": "stdout",
          "text": [
            "33.0\n"
          ]
        }
      ]
    },
    {
      "cell_type": "markdown",
      "source": [
        "The total amount made from the clearance sale was **$33**"
      ],
      "metadata": {
        "id": "4xF7kC4sBm0J"
      }
    },
    {
      "cell_type": "markdown",
      "metadata": {
        "id": "dDqAKj9jXLz4"
      },
      "source": [
        "6) How much total money was collected from the bake sale (including the sale of full price and clearance items)?\n",
        "\n",
        "Hint: Your final answer should be $213.50, but you must make sure you get this answer with your NumPy coding skills!!"
      ]
    },
    {
      "cell_type": "code",
      "source": [
        "brownie_t_cost_array = np.array(2)\n",
        "brownie_quantity_array = np.array(17)\n",
        "brownie_total_amount_array = brownie_t_cost_array * brownie_quantity_array\n",
        "\n",
        "cookies_t_cost_array = np.array(1)\n",
        "cookies_quantity_array = np.array(39)\n",
        "cookies_total_amount_array = cookies_t_cost_array * cookies_quantity_array\n",
        "\n",
        "cupcakes_t_cost_array = np.array(3)\n",
        "cupcakes_quantity_array = np.array(16)\n",
        "cupcakes_total_amount_array = cupcakes_t_cost_array * cupcakes_quantity_array\n",
        "\n",
        "pie_t_cost_array = np.array(7)\n",
        "pie_quantity_array = np.array(2)\n",
        "pie_clearance_total_amount_array = pie_t_cost_array * pie_quantity_array\n",
        "\n",
        "fudge_t_cost_array = np.array(4.50)\n",
        "fudge_quantity_array = np.array(3)\n",
        "fudge_clearance_total_amount_array = fudge_t_cost_array * fudge_quantity_array\n",
        "\n",
        "cakes_t_cost_array = np.array(12)\n",
        "cakes_quantity_array = np.array(1)\n",
        "cakes_clearance_total_amount_array = cakes_t_cost_array * cakes_quantity_array\n",
        "\n",
        "bananabread_t_cost_array = np.array(4)\n",
        "bananabread_quantity_array = np.array(5)\n",
        "bananabread_clearance_total_amount_array = bananabread_t_cost_array * bananabread_quantity_array"
      ],
      "metadata": {
        "id": "fkuXl5DZ8pdh"
      },
      "execution_count": 35,
      "outputs": []
    },
    {
      "cell_type": "code",
      "metadata": {
        "id": "CmqGXhMHXOFD",
        "outputId": "8abf0283-f63a-4222-d8ec-e7f555ecbff9",
        "colab": {
          "base_uri": "https://localhost:8080/"
        }
      },
      "source": [
        "price_total_amount_array = np.array(brownie_total_amount_array + cookies_total_amount_array + cupcakes_total_amount_array + pie_clearance_total_amount_array + fudge_clearance_total_amount_array + cakes_clearance_total_amount_array + bananabread_clearance_total_amount_array)\n",
        "print(price_total_amount_array) \n"
      ],
      "execution_count": 36,
      "outputs": [
        {
          "output_type": "stream",
          "name": "stdout",
          "text": [
            "180.5\n"
          ]
        }
      ]
    },
    {
      "cell_type": "code",
      "source": [
        "overall_total_amount = np.sum(price_total_amount_array + grand_total_clearance_amount_array)\n",
        "print(overall_total_amount)"
      ],
      "metadata": {
        "id": "ZaunLEUpLSD4",
        "outputId": "31c5e246-a6ae-4964-91fb-8fdbc0b14639",
        "colab": {
          "base_uri": "https://localhost:8080/"
        }
      },
      "execution_count": 37,
      "outputs": [
        {
          "output_type": "stream",
          "name": "stdout",
          "text": [
            "213.5\n"
          ]
        }
      ]
    },
    {
      "cell_type": "markdown",
      "source": [
        "The Overall total amount collected from the Bake sale was **$213.50**"
      ],
      "metadata": {
        "id": "r965Lfg-LpHZ"
      }
    }
  ]
}